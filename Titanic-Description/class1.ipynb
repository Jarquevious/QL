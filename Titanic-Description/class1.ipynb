{
 "cells": [
  {
   "cell_type": "code",
   "execution_count": 1,
   "metadata": {},
   "outputs": [
    {
     "name": "stdout",
     "output_type": "stream",
     "text": [
      "94.25\n"
     ]
    }
   ],
   "source": [
    "import math\n",
    "\n",
    "def circumference(radius):\n",
    "    circumference = 2 * math.pi * radius \n",
    "    return circumference\n",
    "\n",
    "circle = circumference(15)\n",
    "print(round(circle, 2))\n"
   ]
  },
  {
   "cell_type": "code",
   "execution_count": 2,
   "metadata": {},
   "outputs": [
    {
     "name": "stdout",
     "output_type": "stream",
     "text": [
      "1256.64\n"
     ]
    }
   ],
   "source": [
    "def surface_area_of_sphere(radius):\n",
    "    area = 4 * math.pi * radius**2\n",
    "    return area\n",
    "\n",
    "surface_area = surface_area_of_sphere(10)\n",
    "print(round(surface_area, 2))"
   ]
  },
  {
   "cell_type": "code",
   "execution_count": 3,
   "metadata": {},
   "outputs": [
    {
     "name": "stdout",
     "output_type": "stream",
     "text": [
      "115.0\n"
     ]
    }
   ],
   "source": [
    "def trapezoid_area(height, a, b):\n",
    "    trapezoid_area = (a + b)/2 * height\n",
    "    return trapezoid_area\n",
    "\n",
    "trapezoid = trapezoid_area(10, 15, 8)\n",
    "print(round(trapezoid, 2))"
   ]
  },
  {
   "cell_type": "code",
   "execution_count": 4,
   "metadata": {},
   "outputs": [
    {
     "name": "stdout",
     "output_type": "stream",
     "text": [
      "3.6666666666666665\n",
      "3.6666666666666665\n"
     ]
    }
   ],
   "source": [
    "import numpy as np\n",
    "series = [3,5,7,12,-3,-2]\n",
    "def mean(s):\n",
    "    total = 0 \n",
    "    for i in range(len(s)):\n",
    "        total += s[i]\n",
    "        \n",
    "    mean = total/len(s)\n",
    "    \n",
    "    return mean\n",
    "\n",
    "print(mean(series))\n",
    "print(np.mean(series))\n",
    "    "
   ]
  },
  {
   "cell_type": "code",
   "execution_count": 5,
   "metadata": {},
   "outputs": [
    {
     "name": "stdout",
     "output_type": "stream",
     "text": [
      "2.3134\n"
     ]
    }
   ],
   "source": [
    "def std(s):\n",
    "#     total = 0\n",
    "    for i in range(len(s)):\n",
    "        total = 0\n",
    "        total += (s[i] - mean(s))**2\n",
    "    std = math.sqrt(total/len(s))\n",
    "    return round(std, 4)\n",
    "\n",
    "print(std(series))\n",
    "    \n",
    "    \n",
    "    "
   ]
  }
 ],
 "metadata": {
  "kernelspec": {
   "display_name": "Python 3",
   "language": "python",
   "name": "python3"
  },
  "language_info": {
   "codemirror_mode": {
    "name": "ipython",
    "version": 3
   },
   "file_extension": ".py",
   "mimetype": "text/x-python",
   "name": "python",
   "nbconvert_exporter": "python",
   "pygments_lexer": "ipython3",
   "version": "3.7.7"
  }
 },
 "nbformat": 4,
 "nbformat_minor": 4
}
